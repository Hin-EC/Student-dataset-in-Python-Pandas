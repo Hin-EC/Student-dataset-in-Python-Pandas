{
 "cells": [
  {
   "cell_type": "code",
   "execution_count": null,
   "id": "b242824a-644e-42ce-8ac4-55ce886fbcd8",
   "metadata": {},
   "outputs": [],
   "source": [
    "import pandas as pd\n",
    "import numpy as np\n",
    "# explore the dataset, null, duplicated, statistic and information summary, insert column by condition, rename column, copy column, remove column\n",
    "#filter the data in condition\n"
   ]
  },
  {
   "cell_type": "code",
   "execution_count": null,
   "id": "aa75cfd8-901d-4b6b-a687-c244c5604c8f",
   "metadata": {},
   "outputs": [],
   "source": [
    "# load the csv to dataframe\n",
    "df = pd.read_csv(\"student.csv\")"
   ]
  },
  {
   "cell_type": "code",
   "execution_count": null,
   "id": "d677f746-fe68-4c5e-9776-2ecddb75a63a",
   "metadata": {},
   "outputs": [],
   "source": [
    "#show the dataset\n",
    "print(df.to_string())"
   ]
  },
  {
   "cell_type": "code",
   "execution_count": null,
   "id": "66c17022-a260-4257-bf63-040bc403ed39",
   "metadata": {},
   "outputs": [],
   "source": [
    "#show the dataset\n",
    "print(df)"
   ]
  },
  {
   "cell_type": "code",
   "execution_count": null,
   "id": "cc94b0e9-8255-4a63-84cc-63f79f91832d",
   "metadata": {},
   "outputs": [],
   "source": [
    "# show the summary of Null value\n",
    "print(df.isnull().sum())\n"
   ]
  },
  {
   "cell_type": "code",
   "execution_count": null,
   "id": "2c4c5309-4b84-4995-9dba-4c622767a1da",
   "metadata": {},
   "outputs": [],
   "source": [
    "# show the summary of duplicated rows\n",
    "print(df.duplicated().sum())\n"
   ]
  },
  {
   "cell_type": "code",
   "execution_count": null,
   "id": "5fa8e78f-1016-4d25-9a52-16ca7f371e61",
   "metadata": {},
   "outputs": [],
   "source": [
    "# show top 10 rows\n",
    "print(df.head(10)) "
   ]
  },
  {
   "cell_type": "code",
   "execution_count": null,
   "id": "99abccab-4037-4ecc-91ee-97295791e6e7",
   "metadata": {},
   "outputs": [],
   "source": []
  },
  {
   "cell_type": "code",
   "execution_count": null,
   "id": "5f4f50a6-0f7d-474b-a034-b3a34839566b",
   "metadata": {},
   "outputs": [],
   "source": [
    "# show top 5 rows\n",
    "print(df.head())"
   ]
  },
  {
   "cell_type": "code",
   "execution_count": null,
   "id": "b3d20c5c-cbb8-4e7c-8230-7139dbb0bf5a",
   "metadata": {},
   "outputs": [],
   "source": [
    "# show bottom 5 rows\n",
    "print(df.tail())"
   ]
  },
  {
   "cell_type": "code",
   "execution_count": null,
   "id": "fd2278f7-e6bf-4eba-b5c5-9d1a0532ed59",
   "metadata": {},
   "outputs": [],
   "source": [
    "# show the information of dataframe\n",
    "print(df.info())"
   ]
  },
  {
   "cell_type": "code",
   "execution_count": null,
   "id": "e343a14f-5f8d-4a43-9448-754d64e1cd39",
   "metadata": {},
   "outputs": [],
   "source": [
    "# show the statistic data of dataframe\n",
    "print(df.describe())"
   ]
  },
  {
   "cell_type": "code",
   "execution_count": null,
   "id": "090d2b55-119d-4630-86c9-9cff234d8b95",
   "metadata": {},
   "outputs": [],
   "source": [
    "# show specific row and column\n",
    "print(df.loc[0,[\"name\",\"mark\"]])"
   ]
  },
  {
   "cell_type": "code",
   "execution_count": null,
   "id": "d5368eed-7d22-4178-84d6-a0781854ca25",
   "metadata": {},
   "outputs": [],
   "source": []
  },
  {
   "cell_type": "code",
   "execution_count": null,
   "id": "054ca680-def9-4689-906d-a89cc431d097",
   "metadata": {},
   "outputs": [],
   "source": [
    "# add a column by numpy function \n",
    "df[\"passed\"] = np.where((df[\"mark\"] >= 60), \"passed\", \"fail\")"
   ]
  },
  {
   "cell_type": "code",
   "execution_count": null,
   "id": "f27bada2-1d0b-410f-b624-862ae2818ac4",
   "metadata": {},
   "outputs": [],
   "source": []
  },
  {
   "cell_type": "code",
   "execution_count": null,
   "id": "65c9645b-192d-43ca-9530-aa59c98a170e",
   "metadata": {},
   "outputs": [],
   "source": [
    "# add a column by apply function\n",
    "df[\"passed\"] = df[\"mark\"].apply(lambda mark: \"passed\" if mark >= 60 else \"fail\")"
   ]
  },
  {
   "cell_type": "code",
   "execution_count": null,
   "id": "2e1c997f-5dad-4b52-99c2-db8e1b1cf40c",
   "metadata": {},
   "outputs": [],
   "source": []
  },
  {
   "cell_type": "code",
   "execution_count": null,
   "id": "fb6a12d8-11b0-4a1c-b39f-9b49a13f8f19",
   "metadata": {},
   "outputs": [],
   "source": [
    "# add a column in copy a column\n",
    "passed = df[\"passed\"]\n",
    "df[\"status\"] = passed"
   ]
  },
  {
   "cell_type": "code",
   "execution_count": null,
   "id": "0c1dc239-a869-4005-9d45-58b8584db62e",
   "metadata": {},
   "outputs": [],
   "source": []
  },
  {
   "cell_type": "code",
   "execution_count": null,
   "id": "7a2c1417-8f10-430a-8a12-cd69bb06eece",
   "metadata": {},
   "outputs": [],
   "source": [
    "# rename column\n",
    "df = df.rename(columns = {'mark': 'score'} )"
   ]
  },
  {
   "cell_type": "code",
   "execution_count": null,
   "id": "ead25bbf-503d-4fe6-81a1-5557b117e01d",
   "metadata": {},
   "outputs": [],
   "source": []
  },
  {
   "cell_type": "code",
   "execution_count": null,
   "id": "c03f4c1d-0001-4c43-8252-9f9e4e318d4b",
   "metadata": {},
   "outputs": [],
   "source": [
    "# remove column\n",
    "df.drop(\"passed\", axis = 1, inplace=True)"
   ]
  },
  {
   "cell_type": "code",
   "execution_count": null,
   "id": "616e17cb-de84-4f6a-8c48-5e52d5b3d62e",
   "metadata": {},
   "outputs": [],
   "source": [
    "# filter by listed condtion in same column (IN filter)\n",
    "list = [\"Four\", \"Three\"]\n",
    "print(df.loc[df[\"class\"].isin(list)], \"\\n\")\n",
    "\n"
   ]
  },
  {
   "cell_type": "code",
   "execution_count": null,
   "id": "a393dba8-0475-4063-a7d2-9aa52221fdd8",
   "metadata": {},
   "outputs": [],
   "source": [
    "# filter by listed condtion and multiple conditions and not operator in same column (IN filter)\n",
    "print(df[~df[\"class\"].isin(list) \n",
    "                | (df[\"score\"] >= 60) \n",
    "                & (df[\"gender\"] == \"female\")])\n"
   ]
  },
  {
   "cell_type": "code",
   "execution_count": null,
   "id": "4a5cff39-3a41-4266-bc5e-0d483e424026",
   "metadata": {},
   "outputs": [],
   "source": [
    "# use where to filter the row and the Null will be filled in the rows which is not match\n",
    "print(df.where(df[\"class\"] ==  \"Four\"))"
   ]
  },
  {
   "cell_type": "code",
   "execution_count": null,
   "id": "82255f49-0e2c-41ff-892b-fe9254aec954",
   "metadata": {},
   "outputs": [],
   "source": []
  }
 ],
 "metadata": {
  "kernelspec": {
   "display_name": "Python 3 (ipykernel)",
   "language": "python",
   "name": "python3"
  },
  "language_info": {
   "codemirror_mode": {
    "name": "ipython",
    "version": 3
   },
   "file_extension": ".py",
   "mimetype": "text/x-python",
   "name": "python",
   "nbconvert_exporter": "python",
   "pygments_lexer": "ipython3",
   "version": "3.13.2"
  }
 },
 "nbformat": 4,
 "nbformat_minor": 5
}
